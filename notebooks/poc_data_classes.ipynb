{
 "cells": [
  {
   "cell_type": "code",
   "execution_count": 1,
   "metadata": {},
   "outputs": [],
   "source": [
    "import sys\n",
    "sys.path.append('../src/')\n"
   ]
  },
  {
   "cell_type": "code",
   "execution_count": 3,
   "metadata": {},
   "outputs": [],
   "source": [
    "from modules.whistle import TwitterApi\n",
    "from modules.getconfig import twitter_credentials\n"
   ]
  },
  {
   "cell_type": "code",
   "execution_count": 4,
   "metadata": {},
   "outputs": [],
   "source": [
    "api_credentials = twitter_credentials()\n",
    "twitter_api = TwitterApi(**api_credentials)\n"
   ]
  },
  {
   "cell_type": "code",
   "execution_count": 5,
   "metadata": {},
   "outputs": [
    {
     "name": "stdout",
     "output_type": "stream",
     "text": [
      "Vaguinha passando na sua tl! 👨‍💻🗣️📣\n",
      "\n",
      "#bolhadev #devops\n",
      "\n",
      "Repo: devopsbr\n",
      "Postado em: 20/08/2022\n",
      "Tags: \n",
      "\n",
      "[Middle DevOps Engineer (Azure+Python) com Inglês avançado] Projeto internacional - Remoto...\n",
      "\n",
      "Link: https://t.co/JYWmIV1mzZ\n",
      "@caiocgomes , perguntinha rápida, quais linguagens de programação você já estudou/sabe? Recomenda alguma pra Data Science fora Python?\n",
      "Indicação de curso free sobre Data Science em Python da Data Viking que vi no linkedinho.\n",
      "Conteúdo:\n",
      "- Python Básico\n",
      "- Modelagem de dados\n",
      "- Data Visualization\n",
      "- Estatística\n",
      "- 10 projetos mão na massa\n",
      "- Outliers\n",
      "- Web Scraping\n",
      "- Scraping + E-mail\n",
      "Link: https://t.co/FYnmMDTRGF\n",
      "@melzinhastudy não, eu acho bem tranquilo. você vai conseguir! e eu acho python bem fácil para começar\n",
      "Vou fazer essa prova, dps estudar português, fazer ex de python e estudar história\n",
      "Ai vou trabalhar na minha msc\n",
      "depois que você fica minimamente proficiente em  framework web em python, qualquer um que aparecer vai ser simples pra entender.\n",
      "@KMalzoni @kelvisdelapena Aliás estava há pouco procurando por fullstack python 😅.\n",
      "@KMalzoni @kelvisdelapena Poxa e eu querendo focar em python como primeira linguagem, estou no caminho certo ? A acho flexível para um primeiro querer, bioinformatica, mas tbm para trabalhos gerais no front(Django? Flesk?). Posso seguir nesse caminho ? 😅\n",
      "@ZeDelivery Pq o enigma é em JS mas o desafio é em Python? 🥲 Fui iludida\n",
      "Telegram:https://t.co/wBMdBLBQA7\n",
      "\n",
      " #ArtificialIntelligence #AI #ML #DataScience #DataScientists #CodeNewbies #Tech #deeplearning #CyberSecurity #Python #Coding  #javascript #rstats #100DaysOfCode #programming #Linux #IoT #IIoT #BigData https://t.co/eR3Xx71qu5\n",
      "@ljtfreitas @j_a_o_v_c_t_r No Java 7, eu acho, passou a ser separador de milhar.\n",
      "@srprogrammer Puts... Java no vscode é osso meu patrão https://t.co/o3ia6B84fI\n",
      "@ljtfreitas Na real eu nem sabia que podia usar antes do Java 8…\n",
      "@srprogrammer IntelliJ da dez a zero no VSCode pra Java, minha opinião. Mas com as extensões certas da pra usar o VSCode de boa\n",
      "@srprogrammer Java é furada\n",
      "Devs Java, vcs sentiram mt dificuldade quando migraram de Windows para Mac? \n",
      "\n",
      "Cc: @sseraphini #bolhadev\n",
      "@srprogrammer Hoje pela milésima vez dei um google porque esqueci a sintaxe do Locale do Java pra mudar a vírgula por ponto. É isso.\n",
      "@j_a_o_v_c_t_r kotlin, scala, haskell hehe...li um texto do Brian Goetz dizendo que na verdade eles deixaram isso \"pra ver depois\" por isso o compilador passou a restringir o uso do \"_\" para reservar o caracter e evitar quebradeiras depois (antes do java 8 o underscore podia ser usado (+)\n",
      "@MayreelBroken Minecraft pra c++ nunca existiria se Java existisse em celulares e consoles\n",
      "@srprogrammer Java é autosuficiente no termo furada\n",
      "@_StaticVoid “Tá vendo essa foto de um zilhão de galáxias? Javascript que nos deu”\n",
      "Só tem aparecido vaga gringa pra mim pedindo node.js. Não vai ter jeito pessoal, vou ter q usar Javascript no backend ...\n",
      "@Estival64578649 @sseraphini Sempre me falaram mesmo que Javascript foi feito pra Webb\n",
      "@MedeirosCode Estou lendo o livro \"Estruturas de Dados e Algoritimos com JavaScript\" da @loiane\n",
      "O Javascript me vendo cometer erros bestas kkkkk https://t.co/uVfyQLyr6x\n",
      "Melhor coisa que o javascript já me deu https://t.co/DUMBBohaw7\n",
      "@MedeirosCode Comprei o livro, ainda não iniciei, espero começar a ler logo ele, estou começando a ler outro livro direcionado a javascript e em seguida vou ler ele.\n",
      "Telegram:https://t.co/wBMdBLBQA7\n",
      "\n",
      " #ArtificialIntelligence #AI #ML #DataScience #DataScientists #CodeNewbies #Tech #deeplearning #CyberSecurity #Python #Coding  #javascript #rstats #100DaysOfCode #programming #Linux #IoT #IIoT #BigData https://t.co/eR3Xx71qu5\n",
      "enfim podendo falar que o javascript me deu algo\n",
      "Carbon: Google cria linguagem de programação para substituir o C++ – Tecnoblog\n",
      "\n",
      "Ajuda aí, nos segue!\n",
      "\n",
      "#desenvolvedores #php #java #javascript\n",
      "\n",
      "https://t.co/HW2mECT8j6\n"
     ]
    }
   ],
   "source": [
    "WORDS = ['python', 'java', 'javascript']\n",
    "\n",
    "for query in WORDS:\n",
    "    raw_data = twitter_api.get_tweets(query)\n",
    "    for status in raw_data:\n",
    "        print(status.full_text)\n"
   ]
  }
 ],
 "metadata": {
  "kernelspec": {
   "display_name": "Python 3.8.13 ('twitter_analysis')",
   "language": "python",
   "name": "python3"
  },
  "language_info": {
   "codemirror_mode": {
    "name": "ipython",
    "version": 3
   },
   "file_extension": ".py",
   "mimetype": "text/x-python",
   "name": "python",
   "nbconvert_exporter": "python",
   "pygments_lexer": "ipython3",
   "version": "3.8.13"
  },
  "orig_nbformat": 4,
  "vscode": {
   "interpreter": {
    "hash": "d78096c9d96b0f38ba81fa101c6f617e5fb8e24dcc39248fd4b0f72c7421a62a"
   }
  }
 },
 "nbformat": 4,
 "nbformat_minor": 2
}
