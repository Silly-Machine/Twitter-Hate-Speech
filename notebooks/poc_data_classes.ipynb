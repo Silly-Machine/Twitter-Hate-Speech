{
 "cells": [
  {
   "cell_type": "code",
   "execution_count": 1,
   "metadata": {},
   "outputs": [],
   "source": [
    "import sys\n",
    "\n",
    "sys.path.append(\"../src/\")"
   ]
  },
  {
   "cell_type": "code",
   "execution_count": 2,
   "metadata": {},
   "outputs": [],
   "source": [
    "from modules.getconfig import TwitterCredentials\n",
    "from modules.engineering import TweetJson\n",
    "from modules.whistle import TwitterApi\n",
    "from modules.database import MongoDb"
   ]
  },
  {
   "cell_type": "code",
   "execution_count": 3,
   "metadata": {},
   "outputs": [],
   "source": [
    "database = MongoDb(\"mongodb://localhost/twitterdb\")"
   ]
  },
  {
   "cell_type": "code",
   "execution_count": 4,
   "metadata": {},
   "outputs": [],
   "source": [
    "api_credentials = TwitterCredentials()\n",
    "twitter_api = TwitterApi(**api_credentials)"
   ]
  },
  {
   "cell_type": "code",
   "execution_count": 5,
   "metadata": {},
   "outputs": [
    {
     "name": "stdout",
     "output_type": "stream",
     "text": [
      "query:ucrania | progress:1/2\n",
      "data sucefully saved\n",
      "query:russia | progress:2/2\n",
      "data sucefully saved\n"
     ]
    }
   ],
   "source": [
    "WORDS = [\"ucrania\", \"russia\"]\n",
    "\n",
    "for query in WORDS:\n",
    "    print(f\"query:{query} | progress:{WORDS.index(query)+1}/{len(WORDS)}\")\n",
    "    raw_data = twitter_api.get_tweets(query, count=20)\n",
    "\n",
    "    for tweet in raw_data:\n",
    "        tweet = TweetJson(tweet, query)\n",
    "        response = database.write(tweet)\n",
    "\n",
    "    print(response)"
   ]
  }
 ],
 "metadata": {
  "kernelspec": {
   "display_name": "Python 3.8.13 ('twitter_analysis')",
   "language": "python",
   "name": "python3"
  },
  "language_info": {
   "codemirror_mode": {
    "name": "ipython",
    "version": 3
   },
   "file_extension": ".py",
   "mimetype": "text/x-python",
   "name": "python",
   "nbconvert_exporter": "python",
   "pygments_lexer": "ipython3",
   "version": "3.8.13"
  },
  "orig_nbformat": 4,
  "vscode": {
   "interpreter": {
    "hash": "24d61e1cb90775ef0f975131971b7d3e394000d7b31529fef026e9fc7cb7c2c8"
   }
  }
 },
 "nbformat": 4,
 "nbformat_minor": 2
}
